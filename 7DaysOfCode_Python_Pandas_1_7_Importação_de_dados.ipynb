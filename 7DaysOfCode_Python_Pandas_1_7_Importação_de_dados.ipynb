{
  "nbformat": 4,
  "nbformat_minor": 0,
  "metadata": {
    "colab": {
      "provenance": [],
      "authorship_tag": "ABX9TyPsC56GCzzqvHyd7E6AEPXV",
      "include_colab_link": true
    },
    "kernelspec": {
      "name": "python3",
      "display_name": "Python 3"
    },
    "language_info": {
      "name": "python"
    }
  },
  "cells": [
    {
      "cell_type": "markdown",
      "metadata": {
        "id": "view-in-github",
        "colab_type": "text"
      },
      "source": [
        "<a href=\"https://colab.research.google.com/github/camilacruz-cs/7DaysOfCode_Alura/blob/main/7DaysOfCode_Python_Pandas_1_7_Importa%C3%A7%C3%A3o_de_dados.ipynb\" target=\"_parent\"><img src=\"https://colab.research.google.com/assets/colab-badge.svg\" alt=\"Open In Colab\"/></a>"
      ]
    },
    {
      "cell_type": "code",
      "execution_count": 1,
      "metadata": {
        "id": "hoNxTmEKuiyz"
      },
      "outputs": [],
      "source": [
        "#importanto as bibliotecas necessárias\n",
        "import glob\n",
        "import pandas as pd"
      ]
    },
    {
      "cell_type": "markdown",
      "source": [
        "### Unificar todos os dataframes em um arquivo só"
      ],
      "metadata": {
        "id": "OyDUkGNG8hT3"
      }
    },
    {
      "cell_type": "code",
      "source": [
        "path = r'/content/'"
      ],
      "metadata": {
        "id": "dkRiXrG-4bDn"
      },
      "execution_count": 2,
      "outputs": []
    },
    {
      "cell_type": "code",
      "source": [
        "#Temos um arquivo em parquet\n",
        "\n",
        "import pandas as pd\n",
        "df = pd.read_parquet('/content/dados_exemplares.parquet')\n",
        "df.to_csv('dados_exemplares.csv')\n"
      ],
      "metadata": {
        "id": "XB6N-vHW9GvG"
      },
      "execution_count": 54,
      "outputs": []
    },
    {
      "cell_type": "code",
      "source": [
        "filenames = glob.glob(path + \"/*.csv\")"
      ],
      "metadata": {
        "id": "2bDmvNfM5K8O"
      },
      "execution_count": 55,
      "outputs": []
    },
    {
      "cell_type": "code",
      "source": [
        "filenames"
      ],
      "metadata": {
        "colab": {
          "base_uri": "https://localhost:8080/"
        },
        "id": "XqYRtdoi5itc",
        "outputId": "35a93b55-47db-415b-e480-23b29917e097"
      },
      "execution_count": 56,
      "outputs": [
        {
          "output_type": "execute_result",
          "data": {
            "text/plain": [
              "['/content/emprestimos-20191.csv',\n",
              " '/content/emprestimos-20181.csv',\n",
              " '/content/emprestimos-20162.csv',\n",
              " '/content/emprestimos-20192.csv',\n",
              " '/content/emprestimos-20131.csv',\n",
              " '/content/emprestimos-20122.csv',\n",
              " '/content/dados_exemplares.csv',\n",
              " '/content/emprestimos-20182.csv',\n",
              " '/content/emprestimos-20132.csv',\n",
              " '/content/emprestimos-20142.csv',\n",
              " '/content/emprestimos-20141.csv',\n",
              " '/content/emprestimos-20152.csv',\n",
              " '/content/emprestimos-20161.csv',\n",
              " '/content/emprestimos-20201.csv',\n",
              " '/content/emprestimos-20101.csv',\n",
              " '/content/emprestimos-20121.csv',\n",
              " '/content/emprestimos-20102.csv',\n",
              " '/content/emprestimos-20151.csv',\n",
              " '/content/emprestimos-20112.csv',\n",
              " '/content/emprestimos-20172.csv',\n",
              " '/content/emprestimos-20171.csv',\n",
              " '/content/emprestimos-20111.csv']"
            ]
          },
          "metadata": {},
          "execution_count": 56
        }
      ]
    },
    {
      "cell_type": "code",
      "source": [
        "#criando um laço de repetição\n",
        "\n",
        "dados_emprestimo = []"
      ],
      "metadata": {
        "id": "_uno-DVy6OZQ"
      },
      "execution_count": 57,
      "outputs": []
    },
    {
      "cell_type": "code",
      "source": [
        "for dados in filenames:\n",
        "  dados_emprestimo.append(pd.read_csv(dados))"
      ],
      "metadata": {
        "id": "_X3tT77_6VPf"
      },
      "execution_count": 58,
      "outputs": []
    },
    {
      "cell_type": "code",
      "source": [
        "#concatenar os arquivos\n",
        "\n",
        "df_full = pd.concat(dados_emprestimo, ignore_index = True)"
      ],
      "metadata": {
        "id": "G0UMgeNE6yTw"
      },
      "execution_count": 59,
      "outputs": []
    },
    {
      "cell_type": "code",
      "source": [
        "df_full"
      ],
      "metadata": {
        "colab": {
          "base_uri": "https://localhost:8080/",
          "height": 661
        },
        "id": "_kRaCiU-8SdW",
        "outputId": "e2353faf-d34c-46d2-a6e4-d6022ec1facf"
      },
      "execution_count": 60,
      "outputs": [
        {
          "output_type": "execute_result",
          "data": {
            "text/plain": [
              "         id_emprestimo codigo_barras                 data_renovacao  \\\n",
              "0            2782809.0       L169931                            NaN   \n",
              "1            2782810.0       L099542                            NaN   \n",
              "2            2782811.0       L199924                            NaN   \n",
              "3            2782812.0    2010081229  2019/01/17 06:20:06.044000000   \n",
              "4            2782813.0    2018022572  2019/01/17 06:20:06.019000000   \n",
              "...                ...           ...                            ...   \n",
              "2804250      1028826.0       L202351                            NaN   \n",
              "2804251      1028827.0    2011018916  2011/07/12 16:41:07.283000000   \n",
              "2804252      1028828.0       C022409                            NaN   \n",
              "2804253      1028829.0    2010066057  2011/07/12 14:44:39.108000000   \n",
              "2804254      1028830.0       C005472                            NaN   \n",
              "\n",
              "                       data_emprestimo                 data_devolucao  \\\n",
              "0        2019/01/02 08:09:52.211000000  2019/01/25 11:40:31.000000000   \n",
              "1        2019/01/02 08:09:52.286000000  2019/01/03 18:29:29.000000000   \n",
              "2        2019/01/02 08:09:52.321000000  2019/01/25 11:40:25.000000000   \n",
              "3        2019/01/02 08:30:25.722000000  2019/01/28 08:22:55.000000000   \n",
              "4        2019/01/02 08:30:25.758000000  2019/01/28 08:22:42.000000000   \n",
              "...                                ...                            ...   \n",
              "2804250  2011/06/30 21:28:31.517000000  2011/07/15 15:13:25.000000000   \n",
              "2804251  2011/06/30 21:32:29.681000000  2011/07/15 07:04:36.000000000   \n",
              "2804252  2011/06/30 21:33:21.073000000  2011/07/15 07:21:03.000000000   \n",
              "2804253  2011/06/30 21:52:07.627000000  2011/08/26 21:11:24.000000000   \n",
              "2804254  2011/06/30 21:57:11.605000000  2011/07/04 20:05:49.000000000   \n",
              "\n",
              "         matricula_ou_siape    tipo_vinculo_usuario  index  id_exemplar  \\\n",
              "0              2.019101e+10  ALUNO DE PÓS-GRADUAÇÃO    NaN          NaN   \n",
              "1              2.019101e+10  ALUNO DE PÓS-GRADUAÇÃO    NaN          NaN   \n",
              "2              2.019101e+10  ALUNO DE PÓS-GRADUAÇÃO    NaN          NaN   \n",
              "3              2.018014e+10      ALUNO DE GRADUAÇÃO    NaN          NaN   \n",
              "4              2.018014e+10      ALUNO DE GRADUAÇÃO    NaN          NaN   \n",
              "...                     ...                     ...    ...          ...   \n",
              "2804250        2.010028e+09      ALUNO DE GRADUAÇÃO    NaN          NaN   \n",
              "2804251        2.008039e+09      ALUNO DE GRADUAÇÃO    NaN          NaN   \n",
              "2804252        2.007388e+08      ALUNO DE GRADUAÇÃO    NaN          NaN   \n",
              "2804253        2.006112e+08      ALUNO DE GRADUAÇÃO    NaN          NaN   \n",
              "2804254        2.011202e+09  ALUNO DE PÓS-GRADUAÇÃO    NaN          NaN   \n",
              "\n",
              "        colecao biblioteca status_material  localizacao  registro_sistema  \n",
              "0           NaN        NaN             NaN          NaN               NaN  \n",
              "1           NaN        NaN             NaN          NaN               NaN  \n",
              "2           NaN        NaN             NaN          NaN               NaN  \n",
              "3           NaN        NaN             NaN          NaN               NaN  \n",
              "4           NaN        NaN             NaN          NaN               NaN  \n",
              "...         ...        ...             ...          ...               ...  \n",
              "2804250     NaN        NaN             NaN          NaN               NaN  \n",
              "2804251     NaN        NaN             NaN          NaN               NaN  \n",
              "2804252     NaN        NaN             NaN          NaN               NaN  \n",
              "2804253     NaN        NaN             NaN          NaN               NaN  \n",
              "2804254     NaN        NaN             NaN          NaN               NaN  \n",
              "\n",
              "[2804255 rows x 14 columns]"
            ],
            "text/html": [
              "\n",
              "\n",
              "  <div id=\"df-9498afcd-f1c4-4843-989f-9b4e7ef929c2\">\n",
              "    <div class=\"colab-df-container\">\n",
              "      <div>\n",
              "<style scoped>\n",
              "    .dataframe tbody tr th:only-of-type {\n",
              "        vertical-align: middle;\n",
              "    }\n",
              "\n",
              "    .dataframe tbody tr th {\n",
              "        vertical-align: top;\n",
              "    }\n",
              "\n",
              "    .dataframe thead th {\n",
              "        text-align: right;\n",
              "    }\n",
              "</style>\n",
              "<table border=\"1\" class=\"dataframe\">\n",
              "  <thead>\n",
              "    <tr style=\"text-align: right;\">\n",
              "      <th></th>\n",
              "      <th>id_emprestimo</th>\n",
              "      <th>codigo_barras</th>\n",
              "      <th>data_renovacao</th>\n",
              "      <th>data_emprestimo</th>\n",
              "      <th>data_devolucao</th>\n",
              "      <th>matricula_ou_siape</th>\n",
              "      <th>tipo_vinculo_usuario</th>\n",
              "      <th>index</th>\n",
              "      <th>id_exemplar</th>\n",
              "      <th>colecao</th>\n",
              "      <th>biblioteca</th>\n",
              "      <th>status_material</th>\n",
              "      <th>localizacao</th>\n",
              "      <th>registro_sistema</th>\n",
              "    </tr>\n",
              "  </thead>\n",
              "  <tbody>\n",
              "    <tr>\n",
              "      <th>0</th>\n",
              "      <td>2782809.0</td>\n",
              "      <td>L169931</td>\n",
              "      <td>NaN</td>\n",
              "      <td>2019/01/02 08:09:52.211000000</td>\n",
              "      <td>2019/01/25 11:40:31.000000000</td>\n",
              "      <td>2.019101e+10</td>\n",
              "      <td>ALUNO DE PÓS-GRADUAÇÃO</td>\n",
              "      <td>NaN</td>\n",
              "      <td>NaN</td>\n",
              "      <td>NaN</td>\n",
              "      <td>NaN</td>\n",
              "      <td>NaN</td>\n",
              "      <td>NaN</td>\n",
              "      <td>NaN</td>\n",
              "    </tr>\n",
              "    <tr>\n",
              "      <th>1</th>\n",
              "      <td>2782810.0</td>\n",
              "      <td>L099542</td>\n",
              "      <td>NaN</td>\n",
              "      <td>2019/01/02 08:09:52.286000000</td>\n",
              "      <td>2019/01/03 18:29:29.000000000</td>\n",
              "      <td>2.019101e+10</td>\n",
              "      <td>ALUNO DE PÓS-GRADUAÇÃO</td>\n",
              "      <td>NaN</td>\n",
              "      <td>NaN</td>\n",
              "      <td>NaN</td>\n",
              "      <td>NaN</td>\n",
              "      <td>NaN</td>\n",
              "      <td>NaN</td>\n",
              "      <td>NaN</td>\n",
              "    </tr>\n",
              "    <tr>\n",
              "      <th>2</th>\n",
              "      <td>2782811.0</td>\n",
              "      <td>L199924</td>\n",
              "      <td>NaN</td>\n",
              "      <td>2019/01/02 08:09:52.321000000</td>\n",
              "      <td>2019/01/25 11:40:25.000000000</td>\n",
              "      <td>2.019101e+10</td>\n",
              "      <td>ALUNO DE PÓS-GRADUAÇÃO</td>\n",
              "      <td>NaN</td>\n",
              "      <td>NaN</td>\n",
              "      <td>NaN</td>\n",
              "      <td>NaN</td>\n",
              "      <td>NaN</td>\n",
              "      <td>NaN</td>\n",
              "      <td>NaN</td>\n",
              "    </tr>\n",
              "    <tr>\n",
              "      <th>3</th>\n",
              "      <td>2782812.0</td>\n",
              "      <td>2010081229</td>\n",
              "      <td>2019/01/17 06:20:06.044000000</td>\n",
              "      <td>2019/01/02 08:30:25.722000000</td>\n",
              "      <td>2019/01/28 08:22:55.000000000</td>\n",
              "      <td>2.018014e+10</td>\n",
              "      <td>ALUNO DE GRADUAÇÃO</td>\n",
              "      <td>NaN</td>\n",
              "      <td>NaN</td>\n",
              "      <td>NaN</td>\n",
              "      <td>NaN</td>\n",
              "      <td>NaN</td>\n",
              "      <td>NaN</td>\n",
              "      <td>NaN</td>\n",
              "    </tr>\n",
              "    <tr>\n",
              "      <th>4</th>\n",
              "      <td>2782813.0</td>\n",
              "      <td>2018022572</td>\n",
              "      <td>2019/01/17 06:20:06.019000000</td>\n",
              "      <td>2019/01/02 08:30:25.758000000</td>\n",
              "      <td>2019/01/28 08:22:42.000000000</td>\n",
              "      <td>2.018014e+10</td>\n",
              "      <td>ALUNO DE GRADUAÇÃO</td>\n",
              "      <td>NaN</td>\n",
              "      <td>NaN</td>\n",
              "      <td>NaN</td>\n",
              "      <td>NaN</td>\n",
              "      <td>NaN</td>\n",
              "      <td>NaN</td>\n",
              "      <td>NaN</td>\n",
              "    </tr>\n",
              "    <tr>\n",
              "      <th>...</th>\n",
              "      <td>...</td>\n",
              "      <td>...</td>\n",
              "      <td>...</td>\n",
              "      <td>...</td>\n",
              "      <td>...</td>\n",
              "      <td>...</td>\n",
              "      <td>...</td>\n",
              "      <td>...</td>\n",
              "      <td>...</td>\n",
              "      <td>...</td>\n",
              "      <td>...</td>\n",
              "      <td>...</td>\n",
              "      <td>...</td>\n",
              "      <td>...</td>\n",
              "    </tr>\n",
              "    <tr>\n",
              "      <th>2804250</th>\n",
              "      <td>1028826.0</td>\n",
              "      <td>L202351</td>\n",
              "      <td>NaN</td>\n",
              "      <td>2011/06/30 21:28:31.517000000</td>\n",
              "      <td>2011/07/15 15:13:25.000000000</td>\n",
              "      <td>2.010028e+09</td>\n",
              "      <td>ALUNO DE GRADUAÇÃO</td>\n",
              "      <td>NaN</td>\n",
              "      <td>NaN</td>\n",
              "      <td>NaN</td>\n",
              "      <td>NaN</td>\n",
              "      <td>NaN</td>\n",
              "      <td>NaN</td>\n",
              "      <td>NaN</td>\n",
              "    </tr>\n",
              "    <tr>\n",
              "      <th>2804251</th>\n",
              "      <td>1028827.0</td>\n",
              "      <td>2011018916</td>\n",
              "      <td>2011/07/12 16:41:07.283000000</td>\n",
              "      <td>2011/06/30 21:32:29.681000000</td>\n",
              "      <td>2011/07/15 07:04:36.000000000</td>\n",
              "      <td>2.008039e+09</td>\n",
              "      <td>ALUNO DE GRADUAÇÃO</td>\n",
              "      <td>NaN</td>\n",
              "      <td>NaN</td>\n",
              "      <td>NaN</td>\n",
              "      <td>NaN</td>\n",
              "      <td>NaN</td>\n",
              "      <td>NaN</td>\n",
              "      <td>NaN</td>\n",
              "    </tr>\n",
              "    <tr>\n",
              "      <th>2804252</th>\n",
              "      <td>1028828.0</td>\n",
              "      <td>C022409</td>\n",
              "      <td>NaN</td>\n",
              "      <td>2011/06/30 21:33:21.073000000</td>\n",
              "      <td>2011/07/15 07:21:03.000000000</td>\n",
              "      <td>2.007388e+08</td>\n",
              "      <td>ALUNO DE GRADUAÇÃO</td>\n",
              "      <td>NaN</td>\n",
              "      <td>NaN</td>\n",
              "      <td>NaN</td>\n",
              "      <td>NaN</td>\n",
              "      <td>NaN</td>\n",
              "      <td>NaN</td>\n",
              "      <td>NaN</td>\n",
              "    </tr>\n",
              "    <tr>\n",
              "      <th>2804253</th>\n",
              "      <td>1028829.0</td>\n",
              "      <td>2010066057</td>\n",
              "      <td>2011/07/12 14:44:39.108000000</td>\n",
              "      <td>2011/06/30 21:52:07.627000000</td>\n",
              "      <td>2011/08/26 21:11:24.000000000</td>\n",
              "      <td>2.006112e+08</td>\n",
              "      <td>ALUNO DE GRADUAÇÃO</td>\n",
              "      <td>NaN</td>\n",
              "      <td>NaN</td>\n",
              "      <td>NaN</td>\n",
              "      <td>NaN</td>\n",
              "      <td>NaN</td>\n",
              "      <td>NaN</td>\n",
              "      <td>NaN</td>\n",
              "    </tr>\n",
              "    <tr>\n",
              "      <th>2804254</th>\n",
              "      <td>1028830.0</td>\n",
              "      <td>C005472</td>\n",
              "      <td>NaN</td>\n",
              "      <td>2011/06/30 21:57:11.605000000</td>\n",
              "      <td>2011/07/04 20:05:49.000000000</td>\n",
              "      <td>2.011202e+09</td>\n",
              "      <td>ALUNO DE PÓS-GRADUAÇÃO</td>\n",
              "      <td>NaN</td>\n",
              "      <td>NaN</td>\n",
              "      <td>NaN</td>\n",
              "      <td>NaN</td>\n",
              "      <td>NaN</td>\n",
              "      <td>NaN</td>\n",
              "      <td>NaN</td>\n",
              "    </tr>\n",
              "  </tbody>\n",
              "</table>\n",
              "<p>2804255 rows × 14 columns</p>\n",
              "</div>\n",
              "      <button class=\"colab-df-convert\" onclick=\"convertToInteractive('df-9498afcd-f1c4-4843-989f-9b4e7ef929c2')\"\n",
              "              title=\"Convert this dataframe to an interactive table.\"\n",
              "              style=\"display:none;\">\n",
              "\n",
              "  <svg xmlns=\"http://www.w3.org/2000/svg\" height=\"24px\"viewBox=\"0 0 24 24\"\n",
              "       width=\"24px\">\n",
              "    <path d=\"M0 0h24v24H0V0z\" fill=\"none\"/>\n",
              "    <path d=\"M18.56 5.44l.94 2.06.94-2.06 2.06-.94-2.06-.94-.94-2.06-.94 2.06-2.06.94zm-11 1L8.5 8.5l.94-2.06 2.06-.94-2.06-.94L8.5 2.5l-.94 2.06-2.06.94zm10 10l.94 2.06.94-2.06 2.06-.94-2.06-.94-.94-2.06-.94 2.06-2.06.94z\"/><path d=\"M17.41 7.96l-1.37-1.37c-.4-.4-.92-.59-1.43-.59-.52 0-1.04.2-1.43.59L10.3 9.45l-7.72 7.72c-.78.78-.78 2.05 0 2.83L4 21.41c.39.39.9.59 1.41.59.51 0 1.02-.2 1.41-.59l7.78-7.78 2.81-2.81c.8-.78.8-2.07 0-2.86zM5.41 20L4 18.59l7.72-7.72 1.47 1.35L5.41 20z\"/>\n",
              "  </svg>\n",
              "      </button>\n",
              "\n",
              "\n",
              "\n",
              "    <div id=\"df-ab0b7d44-07a0-4367-bf75-d17c1495d9a9\">\n",
              "      <button class=\"colab-df-quickchart\" onclick=\"quickchart('df-ab0b7d44-07a0-4367-bf75-d17c1495d9a9')\"\n",
              "              title=\"Suggest charts.\"\n",
              "              style=\"display:none;\">\n",
              "\n",
              "<svg xmlns=\"http://www.w3.org/2000/svg\" height=\"24px\"viewBox=\"0 0 24 24\"\n",
              "     width=\"24px\">\n",
              "    <g>\n",
              "        <path d=\"M19 3H5c-1.1 0-2 .9-2 2v14c0 1.1.9 2 2 2h14c1.1 0 2-.9 2-2V5c0-1.1-.9-2-2-2zM9 17H7v-7h2v7zm4 0h-2V7h2v10zm4 0h-2v-4h2v4z\"/>\n",
              "    </g>\n",
              "</svg>\n",
              "      </button>\n",
              "    </div>\n",
              "\n",
              "<style>\n",
              "  .colab-df-quickchart {\n",
              "    background-color: #E8F0FE;\n",
              "    border: none;\n",
              "    border-radius: 50%;\n",
              "    cursor: pointer;\n",
              "    display: none;\n",
              "    fill: #1967D2;\n",
              "    height: 32px;\n",
              "    padding: 0 0 0 0;\n",
              "    width: 32px;\n",
              "  }\n",
              "\n",
              "  .colab-df-quickchart:hover {\n",
              "    background-color: #E2EBFA;\n",
              "    box-shadow: 0px 1px 2px rgba(60, 64, 67, 0.3), 0px 1px 3px 1px rgba(60, 64, 67, 0.15);\n",
              "    fill: #174EA6;\n",
              "  }\n",
              "\n",
              "  [theme=dark] .colab-df-quickchart {\n",
              "    background-color: #3B4455;\n",
              "    fill: #D2E3FC;\n",
              "  }\n",
              "\n",
              "  [theme=dark] .colab-df-quickchart:hover {\n",
              "    background-color: #434B5C;\n",
              "    box-shadow: 0px 1px 3px 1px rgba(0, 0, 0, 0.15);\n",
              "    filter: drop-shadow(0px 1px 2px rgba(0, 0, 0, 0.3));\n",
              "    fill: #FFFFFF;\n",
              "  }\n",
              "</style>\n",
              "\n",
              "    <script>\n",
              "      async function quickchart(key) {\n",
              "        const containerElement = document.querySelector('#' + key);\n",
              "        const charts = await google.colab.kernel.invokeFunction(\n",
              "            'suggestCharts', [key], {});\n",
              "      }\n",
              "    </script>\n",
              "\n",
              "      <script>\n",
              "\n",
              "function displayQuickchartButton(domScope) {\n",
              "  let quickchartButtonEl =\n",
              "    domScope.querySelector('#df-ab0b7d44-07a0-4367-bf75-d17c1495d9a9 button.colab-df-quickchart');\n",
              "  quickchartButtonEl.style.display =\n",
              "    google.colab.kernel.accessAllowed ? 'block' : 'none';\n",
              "}\n",
              "\n",
              "        displayQuickchartButton(document);\n",
              "      </script>\n",
              "      <style>\n",
              "    .colab-df-container {\n",
              "      display:flex;\n",
              "      flex-wrap:wrap;\n",
              "      gap: 12px;\n",
              "    }\n",
              "\n",
              "    .colab-df-convert {\n",
              "      background-color: #E8F0FE;\n",
              "      border: none;\n",
              "      border-radius: 50%;\n",
              "      cursor: pointer;\n",
              "      display: none;\n",
              "      fill: #1967D2;\n",
              "      height: 32px;\n",
              "      padding: 0 0 0 0;\n",
              "      width: 32px;\n",
              "    }\n",
              "\n",
              "    .colab-df-convert:hover {\n",
              "      background-color: #E2EBFA;\n",
              "      box-shadow: 0px 1px 2px rgba(60, 64, 67, 0.3), 0px 1px 3px 1px rgba(60, 64, 67, 0.15);\n",
              "      fill: #174EA6;\n",
              "    }\n",
              "\n",
              "    [theme=dark] .colab-df-convert {\n",
              "      background-color: #3B4455;\n",
              "      fill: #D2E3FC;\n",
              "    }\n",
              "\n",
              "    [theme=dark] .colab-df-convert:hover {\n",
              "      background-color: #434B5C;\n",
              "      box-shadow: 0px 1px 3px 1px rgba(0, 0, 0, 0.15);\n",
              "      filter: drop-shadow(0px 1px 2px rgba(0, 0, 0, 0.3));\n",
              "      fill: #FFFFFF;\n",
              "    }\n",
              "  </style>\n",
              "\n",
              "      <script>\n",
              "        const buttonEl =\n",
              "          document.querySelector('#df-9498afcd-f1c4-4843-989f-9b4e7ef929c2 button.colab-df-convert');\n",
              "        buttonEl.style.display =\n",
              "          google.colab.kernel.accessAllowed ? 'block' : 'none';\n",
              "\n",
              "        async function convertToInteractive(key) {\n",
              "          const element = document.querySelector('#df-9498afcd-f1c4-4843-989f-9b4e7ef929c2');\n",
              "          const dataTable =\n",
              "            await google.colab.kernel.invokeFunction('convertToInteractive',\n",
              "                                                     [key], {});\n",
              "          if (!dataTable) return;\n",
              "\n",
              "          const docLinkHtml = 'Like what you see? Visit the ' +\n",
              "            '<a target=\"_blank\" href=https://colab.research.google.com/notebooks/data_table.ipynb>data table notebook</a>'\n",
              "            + ' to learn more about interactive tables.';\n",
              "          element.innerHTML = '';\n",
              "          dataTable['output_type'] = 'display_data';\n",
              "          await google.colab.output.renderOutput(dataTable, element);\n",
              "          const docLink = document.createElement('div');\n",
              "          docLink.innerHTML = docLinkHtml;\n",
              "          element.appendChild(docLink);\n",
              "        }\n",
              "      </script>\n",
              "    </div>\n",
              "  </div>\n"
            ]
          },
          "metadata": {},
          "execution_count": 60
        }
      ]
    },
    {
      "cell_type": "code",
      "source": [
        "df_full.info()"
      ],
      "metadata": {
        "colab": {
          "base_uri": "https://localhost:8080/"
        },
        "id": "5rIhaCMHEj7t",
        "outputId": "12ab3e99-3c77-4390-f13f-cc31af2b395e"
      },
      "execution_count": 65,
      "outputs": [
        {
          "output_type": "stream",
          "name": "stdout",
          "text": [
            "<class 'pandas.core.frame.DataFrame'>\n",
            "RangeIndex: 2804255 entries, 0 to 2804254\n",
            "Data columns (total 14 columns):\n",
            " #   Column                Dtype  \n",
            "---  ------                -----  \n",
            " 0   id_emprestimo         float64\n",
            " 1   codigo_barras         object \n",
            " 2   data_renovacao        object \n",
            " 3   data_emprestimo       object \n",
            " 4   data_devolucao        object \n",
            " 5   matricula_ou_siape    float64\n",
            " 6   tipo_vinculo_usuario  object \n",
            " 7   index                 float64\n",
            " 8   id_exemplar           float64\n",
            " 9   colecao               object \n",
            " 10  biblioteca            object \n",
            " 11  status_material       object \n",
            " 12  localizacao           float64\n",
            " 13  registro_sistema      float64\n",
            "dtypes: float64(6), object(8)\n",
            "memory usage: 299.5+ MB\n"
          ]
        }
      ]
    },
    {
      "cell_type": "code",
      "source": [
        "#Contagem de todos os registros do meu DataFrame\n",
        "df_full.value_counts()\n",
        ""
      ],
      "metadata": {
        "colab": {
          "base_uri": "https://localhost:8080/"
        },
        "id": "yeKp2LKbP_hL",
        "outputId": "a0a22872-c286-414a-eed5-17e992f3dd1c"
      },
      "execution_count": 62,
      "outputs": [
        {
          "output_type": "execute_result",
          "data": {
            "text/plain": [
              "Series([], dtype: int64)"
            ]
          },
          "metadata": {},
          "execution_count": 62
        }
      ]
    },
    {
      "cell_type": "code",
      "source": [
        "#Excluindo as possíveis duplicadas no DF\n",
        "emprestimo_exclusao = df_full.drop_duplicates()"
      ],
      "metadata": {
        "id": "OeT5vVpvQOAf"
      },
      "execution_count": 63,
      "outputs": []
    },
    {
      "cell_type": "code",
      "source": [
        "emprestimo_exclusao.value_counts()"
      ],
      "metadata": {
        "colab": {
          "base_uri": "https://localhost:8080/"
        },
        "id": "OGAjFEn2QbD2",
        "outputId": "5e45bad5-c2be-430e-98d0-e7955b0567b7"
      },
      "execution_count": 64,
      "outputs": [
        {
          "output_type": "execute_result",
          "data": {
            "text/plain": [
              "Series([], dtype: int64)"
            ]
          },
          "metadata": {},
          "execution_count": 64
        }
      ]
    }
  ]
}